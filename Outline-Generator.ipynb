{
 "cells": [
  {
   "cell_type": "code",
   "execution_count": null,
   "metadata": {
    "vscode": {
     "languageId": "plaintext"
    }
   },
   "outputs": [],
   "source": [
    "!pip install google-generativeai --upgrade # Ensure the library is up-to-date\n",
    "import google.generativeai as genai\n",
    "from fpdf import FPDF\n",
    "\n",
    "# Set Google API Key\n",
    "GOOGLE_API_KEY = \"*****************************\"\n",
    "genai.configure(api_key=GOOGLE_API_KEY)\n",
    "\n",
    "def generate_content(course_outline):\n",
    "    # Use 'gemini-1.5-flash' instead of the deprecated 'models/gemini-pro-vision'\n",
    "    model = genai.GenerativeModel(\"gemini-1.5-flash\", generation_config={\"temperature\": 0.7})  \n",
    "    response = model.generate_content(f\"Generate detailed course material for the following outline:\\n\\n{course_outline}\\n\\nMake it detailed, well-structured, and at least 10 pages long.\")\n",
    "    return response.text\n",
    "\n",
    "def create_pdf(content, filename=\"course_content.pdf\"):\n",
    "    pdf = FPDF()\n",
    "    pdf.set_auto_page_break(auto=True, margin=15)\n",
    "    pdf.add_page()\n",
    "    pdf.set_font(\"Arial\", size=12)\n",
    "\n",
    "    for line in content.split(\"\\n\"):\n",
    "\n",
    "        line = line.encode('latin-1', 'replace').decode('latin-1')  \n",
    "        pdf.multi_cell(190, 10, txt=line)\n",
    "\n",
    "    pdf.output(filename)\n",
    "    print(f\"✅ PDF saved as {filename}\")\n",
    "\n",
    "course_outline = input(\"📌 Enter Course Outline:\\n\")\n",
    "\n",
    "content = generate_content(course_outline)\n",
    "create_pdf(content)"
   ]
  },
  {
   "cell_type": "code",
   "execution_count": null,
   "metadata": {
    "vscode": {
     "languageId": "plaintext"
    }
   },
   "outputs": [],
   "source": [
    "from google.colab import files\n",
    "files.download(\"course_content.pdf\")"
   ]
  }
 ],
 "metadata": {
  "language_info": {
   "name": "python"
  }
 },
 "nbformat": 4,
 "nbformat_minor": 2
}
